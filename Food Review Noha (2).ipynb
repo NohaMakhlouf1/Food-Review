{
 "cells": [
  {
   "cell_type": "markdown",
   "metadata": {},
   "source": [
    "### Problem Description"
   ]
  },
  {
   "cell_type": "markdown",
   "metadata": {},
   "source": [
    "### This dataset consists of reviews of fine foods from amazon. and we want to do sentiment analysis on the data to know either the review is positive or negative.\n",
    "### here is the link of the dataset --> https://www.kaggle.com/snap/amazon-fine-food-reviews?select=Reviews.csv"
   ]
  },
  {
   "cell_type": "code",
   "execution_count": 85,
   "metadata": {},
   "outputs": [
    {
     "name": "stdout",
     "output_type": "stream",
     "text": [
      "Requirement already satisfied: gensim==3.8.3 in c:\\users\\lenovo\\anaconda3\\lib\\site-packages (3.8.3)\n",
      "Requirement already satisfied: numpy>=1.11.3 in c:\\users\\lenovo\\anaconda3\\lib\\site-packages (from gensim==3.8.3) (1.20.1)\n",
      "Requirement already satisfied: smart-open>=1.8.1 in c:\\users\\lenovo\\anaconda3\\lib\\site-packages (from gensim==3.8.3) (5.2.0)\n",
      "Requirement already satisfied: scipy>=0.18.1 in c:\\users\\lenovo\\anaconda3\\lib\\site-packages (from gensim==3.8.3) (1.6.2)\n",
      "Requirement already satisfied: six>=1.5.0 in c:\\users\\lenovo\\anaconda3\\lib\\site-packages (from gensim==3.8.3) (1.15.0)\n",
      "Requirement already satisfied: Cython==0.29.14 in c:\\users\\lenovo\\anaconda3\\lib\\site-packages (from gensim==3.8.3) (0.29.14)\n"
     ]
    }
   ],
   "source": [
    "!pip3 install gensim==3.8.3"
   ]
  },
  {
   "cell_type": "markdown",
   "metadata": {},
   "source": [
    "### Import Packages"
   ]
  },
  {
   "cell_type": "code",
   "execution_count": 86,
   "metadata": {},
   "outputs": [
    {
     "name": "stderr",
     "output_type": "stream",
     "text": [
      "[nltk_data] Downloading package punkt to\n",
      "[nltk_data]     C:\\Users\\LENOVO\\AppData\\Roaming\\nltk_data...\n",
      "[nltk_data]   Package punkt is already up-to-date!\n",
      "[nltk_data] Downloading package stopwords to\n",
      "[nltk_data]     C:\\Users\\LENOVO\\AppData\\Roaming\\nltk_data...\n",
      "[nltk_data]   Package stopwords is already up-to-date!\n",
      "[nltk_data] Downloading package wordnet to\n",
      "[nltk_data]     C:\\Users\\LENOVO\\AppData\\Roaming\\nltk_data...\n",
      "[nltk_data]   Package wordnet is already up-to-date!\n"
     ]
    }
   ],
   "source": [
    "# Add environment Packages paths to conda\n",
    "import os, sys\n",
    "# env_name = \"food_review\"\n",
    "# sys.path.append(f\"C:\\\\Environments\\\\{env_name}\\\\lib\\\\site-packages\\\\\")\n",
    "\n",
    "import pandas as pd\n",
    "import numpy as np\n",
    "\n",
    "# Text preprocessing packages\n",
    "import nltk # Text libarary\n",
    "# nltk.download('stopwords')\n",
    "import string # Removing special characters {#, @, ...}\n",
    "import re # Regex Package\n",
    "from nltk.corpus import stopwords # Stopwords\n",
    "from nltk.stem import SnowballStemmer, WordNetLemmatizer # Stemmer & Lemmatizer\n",
    "from gensim.utils import simple_preprocess  # Text ==> List of Tokens\n",
    "nltk.download('punkt')\n",
    "nltk.download('stopwords')\n",
    "nltk.download('wordnet')\n",
    "from nltk.tokenize import sent_tokenize, word_tokenize\n",
    "from nltk.stem import PorterStemmer \n",
    "from nltk.tokenize import word_tokenize\n",
    "# Text Embedding\n",
    "from sklearn.feature_extraction.text import TfidfVectorizer\n",
    "\n",
    "# Modelling\n",
    "from sklearn.model_selection import train_test_split\n",
    "from sklearn.ensemble import RandomForestClassifier\n",
    "from sklearn.metrics import accuracy_score\n",
    "\n",
    "# Saving Model\n",
    "import pickle\n",
    "\n",
    "# Visualization Packages\n",
    "import seaborn as sns\n",
    "import matplotlib.pyplot as plt\n",
    "sns.set(font_scale=1.5)\n",
    "%matplotlib inline"
   ]
  },
  {
   "cell_type": "markdown",
   "metadata": {},
   "source": [
    "### Read Dataset"
   ]
  },
  {
   "cell_type": "code",
   "execution_count": 87,
   "metadata": {},
   "outputs": [
    {
     "name": "stdout",
     "output_type": "stream",
     "text": [
      "Wall time: 4.02 s\n"
     ]
    }
   ],
   "source": [
    "%%time\n",
    "df = pd.read_csv('Reviews.csv')"
   ]
  },
  {
   "cell_type": "code",
   "execution_count": 88,
   "metadata": {},
   "outputs": [
    {
     "data": {
      "text/plain": [
       "'568,454 Review'"
      ]
     },
     "execution_count": 88,
     "metadata": {},
     "output_type": "execute_result"
    }
   ],
   "source": [
    "f\"{df.shape[0]:,} Review\""
   ]
  },
  {
   "cell_type": "code",
   "execution_count": 89,
   "metadata": {},
   "outputs": [
    {
     "data": {
      "text/html": [
       "<div>\n",
       "<style scoped>\n",
       "    .dataframe tbody tr th:only-of-type {\n",
       "        vertical-align: middle;\n",
       "    }\n",
       "\n",
       "    .dataframe tbody tr th {\n",
       "        vertical-align: top;\n",
       "    }\n",
       "\n",
       "    .dataframe thead th {\n",
       "        text-align: right;\n",
       "    }\n",
       "</style>\n",
       "<table border=\"1\" class=\"dataframe\">\n",
       "  <thead>\n",
       "    <tr style=\"text-align: right;\">\n",
       "      <th></th>\n",
       "      <th>Text</th>\n",
       "      <th>Score</th>\n",
       "    </tr>\n",
       "  </thead>\n",
       "  <tbody>\n",
       "    <tr>\n",
       "      <th>0</th>\n",
       "      <td>I have bought several of the Vitality canned d...</td>\n",
       "      <td>5</td>\n",
       "    </tr>\n",
       "    <tr>\n",
       "      <th>1</th>\n",
       "      <td>Product arrived labeled as Jumbo Salted Peanut...</td>\n",
       "      <td>1</td>\n",
       "    </tr>\n",
       "    <tr>\n",
       "      <th>2</th>\n",
       "      <td>This is a confection that has been around a fe...</td>\n",
       "      <td>4</td>\n",
       "    </tr>\n",
       "    <tr>\n",
       "      <th>3</th>\n",
       "      <td>If you are looking for the secret ingredient i...</td>\n",
       "      <td>2</td>\n",
       "    </tr>\n",
       "    <tr>\n",
       "      <th>4</th>\n",
       "      <td>Great taffy at a great price.  There was a wid...</td>\n",
       "      <td>5</td>\n",
       "    </tr>\n",
       "  </tbody>\n",
       "</table>\n",
       "</div>"
      ],
      "text/plain": [
       "                                                Text  Score\n",
       "0  I have bought several of the Vitality canned d...      5\n",
       "1  Product arrived labeled as Jumbo Salted Peanut...      1\n",
       "2  This is a confection that has been around a fe...      4\n",
       "3  If you are looking for the secret ingredient i...      2\n",
       "4  Great taffy at a great price.  There was a wid...      5"
      ]
     },
     "execution_count": 89,
     "metadata": {},
     "output_type": "execute_result"
    }
   ],
   "source": [
    "cols = ['Text', 'Score']\n",
    "df_text = df[cols].copy()\n",
    "df_text.head()"
   ]
  },
  {
   "cell_type": "markdown",
   "metadata": {},
   "source": [
    "### Drop Duplicates\n",
    "Save the Cleaned data-frame also with the variable `df_text`"
   ]
  },
  {
   "cell_type": "code",
   "execution_count": 90,
   "metadata": {},
   "outputs": [
    {
     "data": {
      "text/html": [
       "<div>\n",
       "<style scoped>\n",
       "    .dataframe tbody tr th:only-of-type {\n",
       "        vertical-align: middle;\n",
       "    }\n",
       "\n",
       "    .dataframe tbody tr th {\n",
       "        vertical-align: top;\n",
       "    }\n",
       "\n",
       "    .dataframe thead th {\n",
       "        text-align: right;\n",
       "    }\n",
       "</style>\n",
       "<table border=\"1\" class=\"dataframe\">\n",
       "  <thead>\n",
       "    <tr style=\"text-align: right;\">\n",
       "      <th></th>\n",
       "      <th>Id</th>\n",
       "      <th>ProductId</th>\n",
       "      <th>UserId</th>\n",
       "      <th>ProfileName</th>\n",
       "      <th>HelpfulnessNumerator</th>\n",
       "      <th>HelpfulnessDenominator</th>\n",
       "      <th>Score</th>\n",
       "      <th>Time</th>\n",
       "      <th>Summary</th>\n",
       "      <th>Text</th>\n",
       "    </tr>\n",
       "  </thead>\n",
       "  <tbody>\n",
       "    <tr>\n",
       "      <th>0</th>\n",
       "      <td>1</td>\n",
       "      <td>B001E4KFG0</td>\n",
       "      <td>A3SGXH7AUHU8GW</td>\n",
       "      <td>delmartian</td>\n",
       "      <td>1</td>\n",
       "      <td>1</td>\n",
       "      <td>5</td>\n",
       "      <td>1303862400</td>\n",
       "      <td>Good Quality Dog Food</td>\n",
       "      <td>I have bought several of the Vitality canned d...</td>\n",
       "    </tr>\n",
       "    <tr>\n",
       "      <th>1</th>\n",
       "      <td>2</td>\n",
       "      <td>B00813GRG4</td>\n",
       "      <td>A1D87F6ZCVE5NK</td>\n",
       "      <td>dll pa</td>\n",
       "      <td>0</td>\n",
       "      <td>0</td>\n",
       "      <td>1</td>\n",
       "      <td>1346976000</td>\n",
       "      <td>Not as Advertised</td>\n",
       "      <td>Product arrived labeled as Jumbo Salted Peanut...</td>\n",
       "    </tr>\n",
       "    <tr>\n",
       "      <th>2</th>\n",
       "      <td>3</td>\n",
       "      <td>B000LQOCH0</td>\n",
       "      <td>ABXLMWJIXXAIN</td>\n",
       "      <td>Natalia Corres \"Natalia Corres\"</td>\n",
       "      <td>1</td>\n",
       "      <td>1</td>\n",
       "      <td>4</td>\n",
       "      <td>1219017600</td>\n",
       "      <td>\"Delight\" says it all</td>\n",
       "      <td>This is a confection that has been around a fe...</td>\n",
       "    </tr>\n",
       "    <tr>\n",
       "      <th>3</th>\n",
       "      <td>4</td>\n",
       "      <td>B000UA0QIQ</td>\n",
       "      <td>A395BORC6FGVXV</td>\n",
       "      <td>Karl</td>\n",
       "      <td>3</td>\n",
       "      <td>3</td>\n",
       "      <td>2</td>\n",
       "      <td>1307923200</td>\n",
       "      <td>Cough Medicine</td>\n",
       "      <td>If you are looking for the secret ingredient i...</td>\n",
       "    </tr>\n",
       "    <tr>\n",
       "      <th>4</th>\n",
       "      <td>5</td>\n",
       "      <td>B006K2ZZ7K</td>\n",
       "      <td>A1UQRSCLF8GW1T</td>\n",
       "      <td>Michael D. Bigham \"M. Wassir\"</td>\n",
       "      <td>0</td>\n",
       "      <td>0</td>\n",
       "      <td>5</td>\n",
       "      <td>1350777600</td>\n",
       "      <td>Great taffy</td>\n",
       "      <td>Great taffy at a great price.  There was a wid...</td>\n",
       "    </tr>\n",
       "  </tbody>\n",
       "</table>\n",
       "</div>"
      ],
      "text/plain": [
       "   Id   ProductId          UserId                      ProfileName  \\\n",
       "0   1  B001E4KFG0  A3SGXH7AUHU8GW                       delmartian   \n",
       "1   2  B00813GRG4  A1D87F6ZCVE5NK                           dll pa   \n",
       "2   3  B000LQOCH0   ABXLMWJIXXAIN  Natalia Corres \"Natalia Corres\"   \n",
       "3   4  B000UA0QIQ  A395BORC6FGVXV                             Karl   \n",
       "4   5  B006K2ZZ7K  A1UQRSCLF8GW1T    Michael D. Bigham \"M. Wassir\"   \n",
       "\n",
       "   HelpfulnessNumerator  HelpfulnessDenominator  Score        Time  \\\n",
       "0                     1                       1      5  1303862400   \n",
       "1                     0                       0      1  1346976000   \n",
       "2                     1                       1      4  1219017600   \n",
       "3                     3                       3      2  1307923200   \n",
       "4                     0                       0      5  1350777600   \n",
       "\n",
       "                 Summary                                               Text  \n",
       "0  Good Quality Dog Food  I have bought several of the Vitality canned d...  \n",
       "1      Not as Advertised  Product arrived labeled as Jumbo Salted Peanut...  \n",
       "2  \"Delight\" says it all  This is a confection that has been around a fe...  \n",
       "3         Cough Medicine  If you are looking for the secret ingredient i...  \n",
       "4            Great taffy  Great taffy at a great price.  There was a wid...  "
      ]
     },
     "execution_count": 90,
     "metadata": {},
     "output_type": "execute_result"
    }
   ],
   "source": [
    "df_text = df.drop_duplicates()\n",
    "df_text.head()"
   ]
  },
  {
   "cell_type": "markdown",
   "metadata": {},
   "source": [
    "### Target Variable Pre-Processing\n",
    "`target` will be \n",
    " - 0 if score < 3 \n",
    " - 1 otherwise"
   ]
  },
  {
   "cell_type": "code",
   "execution_count": 91,
   "metadata": {},
   "outputs": [],
   "source": [
    "condlist = [df_text['Score'] <3, df_text['Score'] >=3]\n",
    "choicelist = [0, 1]\n",
    "df_text['target'] = np.select(condlist, choicelist)"
   ]
  },
  {
   "cell_type": "markdown",
   "metadata": {},
   "source": [
    "#### Plot Countplot for target Variable"
   ]
  },
  {
   "cell_type": "code",
   "execution_count": 92,
   "metadata": {},
   "outputs": [
    {
     "data": {
      "text/plain": [
       "<AxesSubplot:xlabel='target', ylabel='count'>"
      ]
     },
     "execution_count": 92,
     "metadata": {},
     "output_type": "execute_result"
    },
    {
     "data": {
      "image/png": "[encoded data removed]",
      "text/plain": [
       "<Figure size 432x288 with 1 Axes>"
      ]
     },
     "metadata": {
      "needs_background": "light"
     },
     "output_type": "display_data"
    }
   ],
   "source": [
    "sns.countplot(data = df_text , x = 'target')  "
   ]
  },
  {
   "cell_type": "markdown",
   "metadata": {},
   "source": [
    "Notice how such variance is huge ...   \n",
    "Then we need to down-sample such data ... by which both the positive and negative classes are balanced.\n",
    "\n",
    "### Balance Data Target"
   ]
  },
  {
   "cell_type": "code",
   "execution_count": 93,
   "metadata": {},
   "outputs": [
    {
     "data": {
      "text/html": [
       "<div>\n",
       "<style scoped>\n",
       "    .dataframe tbody tr th:only-of-type {\n",
       "        vertical-align: middle;\n",
       "    }\n",
       "\n",
       "    .dataframe tbody tr th {\n",
       "        vertical-align: top;\n",
       "    }\n",
       "\n",
       "    .dataframe thead th {\n",
       "        text-align: right;\n",
       "    }\n",
       "</style>\n",
       "<table border=\"1\" class=\"dataframe\">\n",
       "  <thead>\n",
       "    <tr style=\"text-align: right;\">\n",
       "      <th></th>\n",
       "      <th>Id</th>\n",
       "      <th>ProductId</th>\n",
       "      <th>UserId</th>\n",
       "      <th>ProfileName</th>\n",
       "      <th>HelpfulnessNumerator</th>\n",
       "      <th>HelpfulnessDenominator</th>\n",
       "      <th>Score</th>\n",
       "      <th>Time</th>\n",
       "      <th>Summary</th>\n",
       "      <th>Text</th>\n",
       "      <th>target</th>\n",
       "    </tr>\n",
       "  </thead>\n",
       "  <tbody>\n",
       "    <tr>\n",
       "      <th>420622</th>\n",
       "      <td>420623</td>\n",
       "      <td>B008JKSJJ2</td>\n",
       "      <td>A33IKMXLPRPB5A</td>\n",
       "      <td>E. Reichert</td>\n",
       "      <td>3</td>\n",
       "      <td>3</td>\n",
       "      <td>5</td>\n",
       "      <td>1309910400</td>\n",
       "      <td>Kind Cranberry Almond Bars</td>\n",
       "      <td>I really like all the Kind bar flavors but the...</td>\n",
       "      <td>1</td>\n",
       "    </tr>\n",
       "    <tr>\n",
       "      <th>251572</th>\n",
       "      <td>251573</td>\n",
       "      <td>B001SITYJ6</td>\n",
       "      <td>A1RRCP78CDDIOS</td>\n",
       "      <td>Beth Wisser \"Beth\"</td>\n",
       "      <td>1</td>\n",
       "      <td>1</td>\n",
       "      <td>4</td>\n",
       "      <td>1279152000</td>\n",
       "      <td>Good Fresh Jerky</td>\n",
       "      <td>I have found this brand to be more fresh than ...</td>\n",
       "      <td>1</td>\n",
       "    </tr>\n",
       "    <tr>\n",
       "      <th>8444</th>\n",
       "      <td>8445</td>\n",
       "      <td>B003VXFK44</td>\n",
       "      <td>AR92LPQMUOABQ</td>\n",
       "      <td>Pinky</td>\n",
       "      <td>0</td>\n",
       "      <td>0</td>\n",
       "      <td>5</td>\n",
       "      <td>1327017600</td>\n",
       "      <td>Best darn coffee :)</td>\n",
       "      <td>I love this coffee - it's one of my all time f...</td>\n",
       "      <td>1</td>\n",
       "    </tr>\n",
       "    <tr>\n",
       "      <th>438183</th>\n",
       "      <td>438184</td>\n",
       "      <td>B000FFIEL2</td>\n",
       "      <td>A1FS3GMCEMFB2Q</td>\n",
       "      <td>Sara</td>\n",
       "      <td>4</td>\n",
       "      <td>5</td>\n",
       "      <td>3</td>\n",
       "      <td>1234742400</td>\n",
       "      <td>Not impressed~ boring, &amp; weak lime</td>\n",
       "      <td>I didn't really like this soup as I found it r...</td>\n",
       "      <td>1</td>\n",
       "    </tr>\n",
       "    <tr>\n",
       "      <th>90036</th>\n",
       "      <td>90037</td>\n",
       "      <td>B003ZTCINA</td>\n",
       "      <td>A2WQWY1210ASAC</td>\n",
       "      <td>C. Holster</td>\n",
       "      <td>9</td>\n",
       "      <td>10</td>\n",
       "      <td>5</td>\n",
       "      <td>1284508800</td>\n",
       "      <td>Product is wonderful but this package is way o...</td>\n",
       "      <td>These granola thins are a great product.  Abso...</td>\n",
       "      <td>1</td>\n",
       "    </tr>\n",
       "  </tbody>\n",
       "</table>\n",
       "</div>"
      ],
      "text/plain": [
       "            Id   ProductId          UserId         ProfileName  \\\n",
       "420622  420623  B008JKSJJ2  A33IKMXLPRPB5A         E. Reichert   \n",
       "251572  251573  B001SITYJ6  A1RRCP78CDDIOS  Beth Wisser \"Beth\"   \n",
       "8444      8445  B003VXFK44   AR92LPQMUOABQ               Pinky   \n",
       "438183  438184  B000FFIEL2  A1FS3GMCEMFB2Q                Sara   \n",
       "90036    90037  B003ZTCINA  A2WQWY1210ASAC          C. Holster   \n",
       "\n",
       "        HelpfulnessNumerator  HelpfulnessDenominator  Score        Time  \\\n",
       "420622                     3                       3      5  1309910400   \n",
       "251572                     1                       1      4  1279152000   \n",
       "8444                       0                       0      5  1327017600   \n",
       "438183                     4                       5      3  1234742400   \n",
       "90036                      9                      10      5  1284508800   \n",
       "\n",
       "                                                  Summary  \\\n",
       "420622                         Kind Cranberry Almond Bars   \n",
       "251572                                   Good Fresh Jerky   \n",
       "8444                                  Best darn coffee :)   \n",
       "438183                 Not impressed~ boring, & weak lime   \n",
       "90036   Product is wonderful but this package is way o...   \n",
       "\n",
       "                                                     Text  target  \n",
       "420622  I really like all the Kind bar flavors but the...       1  \n",
       "251572  I have found this brand to be more fresh than ...       1  \n",
       "8444    I love this coffee - it's one of my all time f...       1  \n",
       "438183  I didn't really like this soup as I found it r...       1  \n",
       "90036   These granola thins are a great product.  Abso...       1  "
      ]
     },
     "execution_count": 93,
     "metadata": {},
     "output_type": "execute_result"
    }
   ],
   "source": [
    "# Sample from positive reviews Same number of negative reviews\n",
    "NEG_N = df_text.target.value_counts()[0]\n",
    "df_pos = df_text[df_text['target'] == 1]['Text'].sample(NEG_N, replace=False)\n",
    "df_text_balanced = pd.concat([df_text.iloc[df_pos.index], df_text[df_text.target == 0]])\n",
    "df_text_balanced.head()"
   ]
  },
  {
   "cell_type": "code",
   "execution_count": 94,
   "metadata": {},
   "outputs": [
    {
     "data": {
      "text/plain": [
       "<AxesSubplot:xlabel='target', ylabel='count'>"
      ]
     },
     "execution_count": 94,
     "metadata": {},
     "output_type": "execute_result"
    },
    {
     "data": {
      "image/png": "[encoded data removed]",
      "text/plain": [
       "<Figure size 432x288 with 1 Axes>"
      ]
     },
     "metadata": {
      "needs_background": "light"
     },
     "output_type": "display_data"
    }
   ],
   "source": [
    "# PLot the target again after balancing\n",
    "sns.countplot(data = df_text_balanced , x = 'target')  "
   ]
  },
  {
   "cell_type": "markdown",
   "metadata": {},
   "source": [
    "### Text Pre-Processing"
   ]
  },
  {
   "cell_type": "code",
   "execution_count": 95,
   "metadata": {},
   "outputs": [],
   "source": [
    "stop_words = set(stopwords.words('english'))\n",
    "stemmer = SnowballStemmer(\"english\")\n",
    "lemmatizer= WordNetLemmatizer()"
   ]
  },
  {
   "cell_type": "markdown",
   "metadata": {},
   "source": [
    "### Clean your reviews using stemmer, lemmatizer & stopwords"
   ]
  },
  {
   "cell_type": "code",
   "execution_count": 97,
   "metadata": {
    "scrolled": true
   },
   "outputs": [
    {
     "data": {
      "text/html": [
       "<div>\n",
       "<style scoped>\n",
       "    .dataframe tbody tr th:only-of-type {\n",
       "        vertical-align: middle;\n",
       "    }\n",
       "\n",
       "    .dataframe tbody tr th {\n",
       "        vertical-align: top;\n",
       "    }\n",
       "\n",
       "    .dataframe thead th {\n",
       "        text-align: right;\n",
       "    }\n",
       "</style>\n",
       "<table border=\"1\" class=\"dataframe\">\n",
       "  <thead>\n",
       "    <tr style=\"text-align: right;\">\n",
       "      <th></th>\n",
       "      <th>Id</th>\n",
       "      <th>ProductId</th>\n",
       "      <th>UserId</th>\n",
       "      <th>ProfileName</th>\n",
       "      <th>HelpfulnessNumerator</th>\n",
       "      <th>HelpfulnessDenominator</th>\n",
       "      <th>Score</th>\n",
       "      <th>Time</th>\n",
       "      <th>Summary</th>\n",
       "      <th>Text</th>\n",
       "      <th>target</th>\n",
       "    </tr>\n",
       "  </thead>\n",
       "  <tbody>\n",
       "    <tr>\n",
       "      <th>420622</th>\n",
       "      <td>420623</td>\n",
       "      <td>B008JKSJJ2</td>\n",
       "      <td>A33IKMXLPRPB5A</td>\n",
       "      <td>E. Reichert</td>\n",
       "      <td>3</td>\n",
       "      <td>3</td>\n",
       "      <td>5</td>\n",
       "      <td>1309910400</td>\n",
       "      <td>Kind Cranberry Almond Bars</td>\n",
       "      <td>I really like Kind bar flavors Cranberry Almon...</td>\n",
       "      <td>1</td>\n",
       "    </tr>\n",
       "    <tr>\n",
       "      <th>251572</th>\n",
       "      <td>251573</td>\n",
       "      <td>B001SITYJ6</td>\n",
       "      <td>A1RRCP78CDDIOS</td>\n",
       "      <td>Beth Wisser \"Beth\"</td>\n",
       "      <td>1</td>\n",
       "      <td>1</td>\n",
       "      <td>4</td>\n",
       "      <td>1279152000</td>\n",
       "      <td>Good Fresh Jerky</td>\n",
       "      <td>I found brand fresh others. The jerky somewhat...</td>\n",
       "      <td>1</td>\n",
       "    </tr>\n",
       "    <tr>\n",
       "      <th>8444</th>\n",
       "      <td>8445</td>\n",
       "      <td>B003VXFK44</td>\n",
       "      <td>AR92LPQMUOABQ</td>\n",
       "      <td>Pinky</td>\n",
       "      <td>0</td>\n",
       "      <td>0</td>\n",
       "      <td>5</td>\n",
       "      <td>1327017600</td>\n",
       "      <td>Best darn coffee :)</td>\n",
       "      <td>I love coffee - one time favorites - best flav...</td>\n",
       "      <td>1</td>\n",
       "    </tr>\n",
       "    <tr>\n",
       "      <th>438183</th>\n",
       "      <td>438184</td>\n",
       "      <td>B000FFIEL2</td>\n",
       "      <td>A1FS3GMCEMFB2Q</td>\n",
       "      <td>Sara</td>\n",
       "      <td>4</td>\n",
       "      <td>5</td>\n",
       "      <td>3</td>\n",
       "      <td>1234742400</td>\n",
       "      <td>Not impressed~ boring, &amp; weak lime</td>\n",
       "      <td>I really like soup I found rather boring eat. ...</td>\n",
       "      <td>1</td>\n",
       "    </tr>\n",
       "    <tr>\n",
       "      <th>90036</th>\n",
       "      <td>90037</td>\n",
       "      <td>B003ZTCINA</td>\n",
       "      <td>A2WQWY1210ASAC</td>\n",
       "      <td>C. Holster</td>\n",
       "      <td>9</td>\n",
       "      <td>10</td>\n",
       "      <td>5</td>\n",
       "      <td>1284508800</td>\n",
       "      <td>Product is wonderful but this package is way o...</td>\n",
       "      <td>These granola thins great product. Absolutely ...</td>\n",
       "      <td>1</td>\n",
       "    </tr>\n",
       "  </tbody>\n",
       "</table>\n",
       "</div>"
      ],
      "text/plain": [
       "            Id   ProductId          UserId         ProfileName  \\\n",
       "420622  420623  B008JKSJJ2  A33IKMXLPRPB5A         E. Reichert   \n",
       "251572  251573  B001SITYJ6  A1RRCP78CDDIOS  Beth Wisser \"Beth\"   \n",
       "8444      8445  B003VXFK44   AR92LPQMUOABQ               Pinky   \n",
       "438183  438184  B000FFIEL2  A1FS3GMCEMFB2Q                Sara   \n",
       "90036    90037  B003ZTCINA  A2WQWY1210ASAC          C. Holster   \n",
       "\n",
       "        HelpfulnessNumerator  HelpfulnessDenominator  Score        Time  \\\n",
       "420622                     3                       3      5  1309910400   \n",
       "251572                     1                       1      4  1279152000   \n",
       "8444                       0                       0      5  1327017600   \n",
       "438183                     4                       5      3  1234742400   \n",
       "90036                      9                      10      5  1284508800   \n",
       "\n",
       "                                                  Summary  \\\n",
       "420622                         Kind Cranberry Almond Bars   \n",
       "251572                                   Good Fresh Jerky   \n",
       "8444                                  Best darn coffee :)   \n",
       "438183                 Not impressed~ boring, & weak lime   \n",
       "90036   Product is wonderful but this package is way o...   \n",
       "\n",
       "                                                     Text  target  \n",
       "420622  I really like Kind bar flavors Cranberry Almon...       1  \n",
       "251572  I found brand fresh others. The jerky somewhat...       1  \n",
       "8444    I love coffee - one time favorites - best flav...       1  \n",
       "438183  I really like soup I found rather boring eat. ...       1  \n",
       "90036   These granola thins great product. Absolutely ...       1  "
      ]
     },
     "execution_count": 97,
     "metadata": {},
     "output_type": "execute_result"
    }
   ],
   "source": [
    "#Remove stop words \n",
    "stop_words = set(stopwords.words('english'))\n",
    "def remove_stopwords(text):\n",
    "    \"\"\"custom function to remove the stopwords\"\"\"\n",
    "    return \" \".join([word for word in text.split() if word not in stop_words])\n",
    "df_text_balanced[\"Text\"] = df_text_balanced[\"Text\"].apply(lambda text: remove_stopwords(text))\n",
    "df_text_balanced.head()"
   ]
  },
  {
   "cell_type": "code",
   "execution_count": 98,
   "metadata": {},
   "outputs": [
    {
     "data": {
      "text/html": [
       "<div>\n",
       "<style scoped>\n",
       "    .dataframe tbody tr th:only-of-type {\n",
       "        vertical-align: middle;\n",
       "    }\n",
       "\n",
       "    .dataframe tbody tr th {\n",
       "        vertical-align: top;\n",
       "    }\n",
       "\n",
       "    .dataframe thead th {\n",
       "        text-align: right;\n",
       "    }\n",
       "</style>\n",
       "<table border=\"1\" class=\"dataframe\">\n",
       "  <thead>\n",
       "    <tr style=\"text-align: right;\">\n",
       "      <th></th>\n",
       "      <th>Id</th>\n",
       "      <th>ProductId</th>\n",
       "      <th>UserId</th>\n",
       "      <th>ProfileName</th>\n",
       "      <th>HelpfulnessNumerator</th>\n",
       "      <th>HelpfulnessDenominator</th>\n",
       "      <th>Score</th>\n",
       "      <th>Time</th>\n",
       "      <th>Summary</th>\n",
       "      <th>Text</th>\n",
       "      <th>target</th>\n",
       "      <th>Tokens</th>\n",
       "    </tr>\n",
       "  </thead>\n",
       "  <tbody>\n",
       "    <tr>\n",
       "      <th>420622</th>\n",
       "      <td>420623</td>\n",
       "      <td>B008JKSJJ2</td>\n",
       "      <td>A33IKMXLPRPB5A</td>\n",
       "      <td>E. Reichert</td>\n",
       "      <td>3</td>\n",
       "      <td>3</td>\n",
       "      <td>5</td>\n",
       "      <td>1309910400</td>\n",
       "      <td>Kind Cranberry Almond Bars</td>\n",
       "      <td>I really like Kind bar flavors Cranberry Almon...</td>\n",
       "      <td>1</td>\n",
       "      <td>[I, really, like, Kind, bar, flavors, Cranberr...</td>\n",
       "    </tr>\n",
       "    <tr>\n",
       "      <th>251572</th>\n",
       "      <td>251573</td>\n",
       "      <td>B001SITYJ6</td>\n",
       "      <td>A1RRCP78CDDIOS</td>\n",
       "      <td>Beth Wisser \"Beth\"</td>\n",
       "      <td>1</td>\n",
       "      <td>1</td>\n",
       "      <td>4</td>\n",
       "      <td>1279152000</td>\n",
       "      <td>Good Fresh Jerky</td>\n",
       "      <td>I found brand fresh others. The jerky somewhat...</td>\n",
       "      <td>1</td>\n",
       "      <td>[I, found, brand, fresh, others, ., The, jerky...</td>\n",
       "    </tr>\n",
       "    <tr>\n",
       "      <th>8444</th>\n",
       "      <td>8445</td>\n",
       "      <td>B003VXFK44</td>\n",
       "      <td>AR92LPQMUOABQ</td>\n",
       "      <td>Pinky</td>\n",
       "      <td>0</td>\n",
       "      <td>0</td>\n",
       "      <td>5</td>\n",
       "      <td>1327017600</td>\n",
       "      <td>Best darn coffee :)</td>\n",
       "      <td>I love coffee - one time favorites - best flav...</td>\n",
       "      <td>1</td>\n",
       "      <td>[I, love, coffee, -, one, time, favorites, -, ...</td>\n",
       "    </tr>\n",
       "    <tr>\n",
       "      <th>438183</th>\n",
       "      <td>438184</td>\n",
       "      <td>B000FFIEL2</td>\n",
       "      <td>A1FS3GMCEMFB2Q</td>\n",
       "      <td>Sara</td>\n",
       "      <td>4</td>\n",
       "      <td>5</td>\n",
       "      <td>3</td>\n",
       "      <td>1234742400</td>\n",
       "      <td>Not impressed~ boring, &amp; weak lime</td>\n",
       "      <td>I really like soup I found rather boring eat. ...</td>\n",
       "      <td>1</td>\n",
       "      <td>[I, really, like, soup, I, found, rather, bori...</td>\n",
       "    </tr>\n",
       "    <tr>\n",
       "      <th>90036</th>\n",
       "      <td>90037</td>\n",
       "      <td>B003ZTCINA</td>\n",
       "      <td>A2WQWY1210ASAC</td>\n",
       "      <td>C. Holster</td>\n",
       "      <td>9</td>\n",
       "      <td>10</td>\n",
       "      <td>5</td>\n",
       "      <td>1284508800</td>\n",
       "      <td>Product is wonderful but this package is way o...</td>\n",
       "      <td>These granola thins great product. Absolutely ...</td>\n",
       "      <td>1</td>\n",
       "      <td>[These, granola, thins, great, product, ., Abs...</td>\n",
       "    </tr>\n",
       "  </tbody>\n",
       "</table>\n",
       "</div>"
      ],
      "text/plain": [
       "            Id   ProductId          UserId         ProfileName  \\\n",
       "420622  420623  B008JKSJJ2  A33IKMXLPRPB5A         E. Reichert   \n",
       "251572  251573  B001SITYJ6  A1RRCP78CDDIOS  Beth Wisser \"Beth\"   \n",
       "8444      8445  B003VXFK44   AR92LPQMUOABQ               Pinky   \n",
       "438183  438184  B000FFIEL2  A1FS3GMCEMFB2Q                Sara   \n",
       "90036    90037  B003ZTCINA  A2WQWY1210ASAC          C. Holster   \n",
       "\n",
       "        HelpfulnessNumerator  HelpfulnessDenominator  Score        Time  \\\n",
       "420622                     3                       3      5  1309910400   \n",
       "251572                     1                       1      4  1279152000   \n",
       "8444                       0                       0      5  1327017600   \n",
       "438183                     4                       5      3  1234742400   \n",
       "90036                      9                      10      5  1284508800   \n",
       "\n",
       "                                                  Summary  \\\n",
       "420622                         Kind Cranberry Almond Bars   \n",
       "251572                                   Good Fresh Jerky   \n",
       "8444                                  Best darn coffee :)   \n",
       "438183                 Not impressed~ boring, & weak lime   \n",
       "90036   Product is wonderful but this package is way o...   \n",
       "\n",
       "                                                     Text  target  \\\n",
       "420622  I really like Kind bar flavors Cranberry Almon...       1   \n",
       "251572  I found brand fresh others. The jerky somewhat...       1   \n",
       "8444    I love coffee - one time favorites - best flav...       1   \n",
       "438183  I really like soup I found rather boring eat. ...       1   \n",
       "90036   These granola thins great product. Absolutely ...       1   \n",
       "\n",
       "                                                   Tokens  \n",
       "420622  [I, really, like, Kind, bar, flavors, Cranberr...  \n",
       "251572  [I, found, brand, fresh, others, ., The, jerky...  \n",
       "8444    [I, love, coffee, -, one, time, favorites, -, ...  \n",
       "438183  [I, really, like, soup, I, found, rather, bori...  \n",
       "90036   [These, granola, thins, great, product, ., Abs...  "
      ]
     },
     "execution_count": 98,
     "metadata": {},
     "output_type": "execute_result"
    }
   ],
   "source": [
    "#Tokenization text\n",
    "df_text_balanced['Tokens'] = df_text_balanced['Text'].apply(lambda x: word_tokenize(x))\n",
    "df_text_balanced.head()"
   ]
  },
  {
   "cell_type": "code",
   "execution_count": 99,
   "metadata": {},
   "outputs": [
    {
     "data": {
      "text/html": [
       "<div>\n",
       "<style scoped>\n",
       "    .dataframe tbody tr th:only-of-type {\n",
       "        vertical-align: middle;\n",
       "    }\n",
       "\n",
       "    .dataframe tbody tr th {\n",
       "        vertical-align: top;\n",
       "    }\n",
       "\n",
       "    .dataframe thead th {\n",
       "        text-align: right;\n",
       "    }\n",
       "</style>\n",
       "<table border=\"1\" class=\"dataframe\">\n",
       "  <thead>\n",
       "    <tr style=\"text-align: right;\">\n",
       "      <th></th>\n",
       "      <th>Id</th>\n",
       "      <th>ProductId</th>\n",
       "      <th>UserId</th>\n",
       "      <th>ProfileName</th>\n",
       "      <th>HelpfulnessNumerator</th>\n",
       "      <th>HelpfulnessDenominator</th>\n",
       "      <th>Score</th>\n",
       "      <th>Time</th>\n",
       "      <th>Summary</th>\n",
       "      <th>Text</th>\n",
       "      <th>target</th>\n",
       "      <th>Tokens</th>\n",
       "      <th>Stemmed Words</th>\n",
       "    </tr>\n",
       "  </thead>\n",
       "  <tbody>\n",
       "    <tr>\n",
       "      <th>420622</th>\n",
       "      <td>420623</td>\n",
       "      <td>B008JKSJJ2</td>\n",
       "      <td>A33IKMXLPRPB5A</td>\n",
       "      <td>E. Reichert</td>\n",
       "      <td>3</td>\n",
       "      <td>3</td>\n",
       "      <td>5</td>\n",
       "      <td>1309910400</td>\n",
       "      <td>Kind Cranberry Almond Bars</td>\n",
       "      <td>I really like Kind bar flavors Cranberry Almon...</td>\n",
       "      <td>1</td>\n",
       "      <td>[I, really, like, Kind, bar, flavors, Cranberr...</td>\n",
       "      <td>i realli like kind bar flavor cranberri almond...</td>\n",
       "    </tr>\n",
       "    <tr>\n",
       "      <th>251572</th>\n",
       "      <td>251573</td>\n",
       "      <td>B001SITYJ6</td>\n",
       "      <td>A1RRCP78CDDIOS</td>\n",
       "      <td>Beth Wisser \"Beth\"</td>\n",
       "      <td>1</td>\n",
       "      <td>1</td>\n",
       "      <td>4</td>\n",
       "      <td>1279152000</td>\n",
       "      <td>Good Fresh Jerky</td>\n",
       "      <td>I found brand fresh others. The jerky somewhat...</td>\n",
       "      <td>1</td>\n",
       "      <td>[I, found, brand, fresh, others, ., The, jerky...</td>\n",
       "      <td>i found brand fresh other . the jerki somewhat...</td>\n",
       "    </tr>\n",
       "    <tr>\n",
       "      <th>8444</th>\n",
       "      <td>8445</td>\n",
       "      <td>B003VXFK44</td>\n",
       "      <td>AR92LPQMUOABQ</td>\n",
       "      <td>Pinky</td>\n",
       "      <td>0</td>\n",
       "      <td>0</td>\n",
       "      <td>5</td>\n",
       "      <td>1327017600</td>\n",
       "      <td>Best darn coffee :)</td>\n",
       "      <td>I love coffee - one time favorites - best flav...</td>\n",
       "      <td>1</td>\n",
       "      <td>[I, love, coffee, -, one, time, favorites, -, ...</td>\n",
       "      <td>i love coffe - one time favorit - best flavor ...</td>\n",
       "    </tr>\n",
       "    <tr>\n",
       "      <th>438183</th>\n",
       "      <td>438184</td>\n",
       "      <td>B000FFIEL2</td>\n",
       "      <td>A1FS3GMCEMFB2Q</td>\n",
       "      <td>Sara</td>\n",
       "      <td>4</td>\n",
       "      <td>5</td>\n",
       "      <td>3</td>\n",
       "      <td>1234742400</td>\n",
       "      <td>Not impressed~ boring, &amp; weak lime</td>\n",
       "      <td>I really like soup I found rather boring eat. ...</td>\n",
       "      <td>1</td>\n",
       "      <td>[I, really, like, soup, I, found, rather, bori...</td>\n",
       "      <td>i realli like soup i found rather bore eat . i...</td>\n",
       "    </tr>\n",
       "    <tr>\n",
       "      <th>90036</th>\n",
       "      <td>90037</td>\n",
       "      <td>B003ZTCINA</td>\n",
       "      <td>A2WQWY1210ASAC</td>\n",
       "      <td>C. Holster</td>\n",
       "      <td>9</td>\n",
       "      <td>10</td>\n",
       "      <td>5</td>\n",
       "      <td>1284508800</td>\n",
       "      <td>Product is wonderful but this package is way o...</td>\n",
       "      <td>These granola thins great product. Absolutely ...</td>\n",
       "      <td>1</td>\n",
       "      <td>[These, granola, thins, great, product, ., Abs...</td>\n",
       "      <td>these granola thin great product . absolut del...</td>\n",
       "    </tr>\n",
       "  </tbody>\n",
       "</table>\n",
       "</div>"
      ],
      "text/plain": [
       "            Id   ProductId          UserId         ProfileName  \\\n",
       "420622  420623  B008JKSJJ2  A33IKMXLPRPB5A         E. Reichert   \n",
       "251572  251573  B001SITYJ6  A1RRCP78CDDIOS  Beth Wisser \"Beth\"   \n",
       "8444      8445  B003VXFK44   AR92LPQMUOABQ               Pinky   \n",
       "438183  438184  B000FFIEL2  A1FS3GMCEMFB2Q                Sara   \n",
       "90036    90037  B003ZTCINA  A2WQWY1210ASAC          C. Holster   \n",
       "\n",
       "        HelpfulnessNumerator  HelpfulnessDenominator  Score        Time  \\\n",
       "420622                     3                       3      5  1309910400   \n",
       "251572                     1                       1      4  1279152000   \n",
       "8444                       0                       0      5  1327017600   \n",
       "438183                     4                       5      3  1234742400   \n",
       "90036                      9                      10      5  1284508800   \n",
       "\n",
       "                                                  Summary  \\\n",
       "420622                         Kind Cranberry Almond Bars   \n",
       "251572                                   Good Fresh Jerky   \n",
       "8444                                  Best darn coffee :)   \n",
       "438183                 Not impressed~ boring, & weak lime   \n",
       "90036   Product is wonderful but this package is way o...   \n",
       "\n",
       "                                                     Text  target  \\\n",
       "420622  I really like Kind bar flavors Cranberry Almon...       1   \n",
       "251572  I found brand fresh others. The jerky somewhat...       1   \n",
       "8444    I love coffee - one time favorites - best flav...       1   \n",
       "438183  I really like soup I found rather boring eat. ...       1   \n",
       "90036   These granola thins great product. Absolutely ...       1   \n",
       "\n",
       "                                                   Tokens  \\\n",
       "420622  [I, really, like, Kind, bar, flavors, Cranberr...   \n",
       "251572  [I, found, brand, fresh, others, ., The, jerky...   \n",
       "8444    [I, love, coffee, -, one, time, favorites, -, ...   \n",
       "438183  [I, really, like, soup, I, found, rather, bori...   \n",
       "90036   [These, granola, thins, great, product, ., Abs...   \n",
       "\n",
       "                                            Stemmed Words  \n",
       "420622  i realli like kind bar flavor cranberri almond...  \n",
       "251572  i found brand fresh other . the jerki somewhat...  \n",
       "8444    i love coffe - one time favorit - best flavor ...  \n",
       "438183  i realli like soup i found rather bore eat . i...  \n",
       "90036   these granola thin great product . absolut del...  "
      ]
     },
     "execution_count": 99,
     "metadata": {},
     "output_type": "execute_result"
    }
   ],
   "source": [
    "#stemming \n",
    "stemmer = SnowballStemmer(\"english\")\n",
    "def word_stemmer(text):\n",
    "    stem_text = [SnowballStemmer(\"english\").stem(i) for i in text]\n",
    "    return stem_text\n",
    "str = \" \"\n",
    "df_text_balanced['Stemmed Words'] = df_text_balanced['Tokens'].apply(lambda x: word_stemmer(x)).apply(lambda x: str.join(x))\n",
    "df_text_balanced.head()\n"
   ]
  },
  {
   "cell_type": "code",
   "execution_count": 100,
   "metadata": {},
   "outputs": [
    {
     "data": {
      "text/html": [
       "<div>\n",
       "<style scoped>\n",
       "    .dataframe tbody tr th:only-of-type {\n",
       "        vertical-align: middle;\n",
       "    }\n",
       "\n",
       "    .dataframe tbody tr th {\n",
       "        vertical-align: top;\n",
       "    }\n",
       "\n",
       "    .dataframe thead th {\n",
       "        text-align: right;\n",
       "    }\n",
       "</style>\n",
       "<table border=\"1\" class=\"dataframe\">\n",
       "  <thead>\n",
       "    <tr style=\"text-align: right;\">\n",
       "      <th></th>\n",
       "      <th>Id</th>\n",
       "      <th>ProductId</th>\n",
       "      <th>UserId</th>\n",
       "      <th>ProfileName</th>\n",
       "      <th>HelpfulnessNumerator</th>\n",
       "      <th>HelpfulnessDenominator</th>\n",
       "      <th>Score</th>\n",
       "      <th>Time</th>\n",
       "      <th>Summary</th>\n",
       "      <th>Text</th>\n",
       "      <th>target</th>\n",
       "      <th>Tokens</th>\n",
       "      <th>Stemmed Words</th>\n",
       "      <th>lemmatize_text</th>\n",
       "    </tr>\n",
       "  </thead>\n",
       "  <tbody>\n",
       "    <tr>\n",
       "      <th>420622</th>\n",
       "      <td>420623</td>\n",
       "      <td>B008JKSJJ2</td>\n",
       "      <td>A33IKMXLPRPB5A</td>\n",
       "      <td>E. Reichert</td>\n",
       "      <td>3</td>\n",
       "      <td>3</td>\n",
       "      <td>5</td>\n",
       "      <td>1309910400</td>\n",
       "      <td>Kind Cranberry Almond Bars</td>\n",
       "      <td>I really like Kind bar flavors Cranberry Almon...</td>\n",
       "      <td>1</td>\n",
       "      <td>[I, really, like, Kind, bar, flavors, Cranberr...</td>\n",
       "      <td>i realli like kind bar flavor cranberri almond...</td>\n",
       "      <td>[I, really, like, Kind, bar, flavor, Cranberry...</td>\n",
       "    </tr>\n",
       "    <tr>\n",
       "      <th>251572</th>\n",
       "      <td>251573</td>\n",
       "      <td>B001SITYJ6</td>\n",
       "      <td>A1RRCP78CDDIOS</td>\n",
       "      <td>Beth Wisser \"Beth\"</td>\n",
       "      <td>1</td>\n",
       "      <td>1</td>\n",
       "      <td>4</td>\n",
       "      <td>1279152000</td>\n",
       "      <td>Good Fresh Jerky</td>\n",
       "      <td>I found brand fresh others. The jerky somewhat...</td>\n",
       "      <td>1</td>\n",
       "      <td>[I, found, brand, fresh, others, ., The, jerky...</td>\n",
       "      <td>i found brand fresh other . the jerki somewhat...</td>\n",
       "      <td>[I, found, brand, fresh, others., The, jerky, ...</td>\n",
       "    </tr>\n",
       "    <tr>\n",
       "      <th>8444</th>\n",
       "      <td>8445</td>\n",
       "      <td>B003VXFK44</td>\n",
       "      <td>AR92LPQMUOABQ</td>\n",
       "      <td>Pinky</td>\n",
       "      <td>0</td>\n",
       "      <td>0</td>\n",
       "      <td>5</td>\n",
       "      <td>1327017600</td>\n",
       "      <td>Best darn coffee :)</td>\n",
       "      <td>I love coffee - one time favorites - best flav...</td>\n",
       "      <td>1</td>\n",
       "      <td>[I, love, coffee, -, one, time, favorites, -, ...</td>\n",
       "      <td>i love coffe - one time favorit - best flavor ...</td>\n",
       "      <td>[I, love, coffee, -, one, time, favorite, -, b...</td>\n",
       "    </tr>\n",
       "    <tr>\n",
       "      <th>438183</th>\n",
       "      <td>438184</td>\n",
       "      <td>B000FFIEL2</td>\n",
       "      <td>A1FS3GMCEMFB2Q</td>\n",
       "      <td>Sara</td>\n",
       "      <td>4</td>\n",
       "      <td>5</td>\n",
       "      <td>3</td>\n",
       "      <td>1234742400</td>\n",
       "      <td>Not impressed~ boring, &amp; weak lime</td>\n",
       "      <td>I really like soup I found rather boring eat. ...</td>\n",
       "      <td>1</td>\n",
       "      <td>[I, really, like, soup, I, found, rather, bori...</td>\n",
       "      <td>i realli like soup i found rather bore eat . i...</td>\n",
       "      <td>[I, really, like, soup, I, found, rather, bori...</td>\n",
       "    </tr>\n",
       "    <tr>\n",
       "      <th>90036</th>\n",
       "      <td>90037</td>\n",
       "      <td>B003ZTCINA</td>\n",
       "      <td>A2WQWY1210ASAC</td>\n",
       "      <td>C. Holster</td>\n",
       "      <td>9</td>\n",
       "      <td>10</td>\n",
       "      <td>5</td>\n",
       "      <td>1284508800</td>\n",
       "      <td>Product is wonderful but this package is way o...</td>\n",
       "      <td>These granola thins great product. Absolutely ...</td>\n",
       "      <td>1</td>\n",
       "      <td>[These, granola, thins, great, product, ., Abs...</td>\n",
       "      <td>these granola thin great product . absolut del...</td>\n",
       "      <td>[These, granola, thins, great, product., Absol...</td>\n",
       "    </tr>\n",
       "  </tbody>\n",
       "</table>\n",
       "</div>"
      ],
      "text/plain": [
       "            Id   ProductId          UserId         ProfileName  \\\n",
       "420622  420623  B008JKSJJ2  A33IKMXLPRPB5A         E. Reichert   \n",
       "251572  251573  B001SITYJ6  A1RRCP78CDDIOS  Beth Wisser \"Beth\"   \n",
       "8444      8445  B003VXFK44   AR92LPQMUOABQ               Pinky   \n",
       "438183  438184  B000FFIEL2  A1FS3GMCEMFB2Q                Sara   \n",
       "90036    90037  B003ZTCINA  A2WQWY1210ASAC          C. Holster   \n",
       "\n",
       "        HelpfulnessNumerator  HelpfulnessDenominator  Score        Time  \\\n",
       "420622                     3                       3      5  1309910400   \n",
       "251572                     1                       1      4  1279152000   \n",
       "8444                       0                       0      5  1327017600   \n",
       "438183                     4                       5      3  1234742400   \n",
       "90036                      9                      10      5  1284508800   \n",
       "\n",
       "                                                  Summary  \\\n",
       "420622                         Kind Cranberry Almond Bars   \n",
       "251572                                   Good Fresh Jerky   \n",
       "8444                                  Best darn coffee :)   \n",
       "438183                 Not impressed~ boring, & weak lime   \n",
       "90036   Product is wonderful but this package is way o...   \n",
       "\n",
       "                                                     Text  target  \\\n",
       "420622  I really like Kind bar flavors Cranberry Almon...       1   \n",
       "251572  I found brand fresh others. The jerky somewhat...       1   \n",
       "8444    I love coffee - one time favorites - best flav...       1   \n",
       "438183  I really like soup I found rather boring eat. ...       1   \n",
       "90036   These granola thins great product. Absolutely ...       1   \n",
       "\n",
       "                                                   Tokens  \\\n",
       "420622  [I, really, like, Kind, bar, flavors, Cranberr...   \n",
       "251572  [I, found, brand, fresh, others, ., The, jerky...   \n",
       "8444    [I, love, coffee, -, one, time, favorites, -, ...   \n",
       "438183  [I, really, like, soup, I, found, rather, bori...   \n",
       "90036   [These, granola, thins, great, product, ., Abs...   \n",
       "\n",
       "                                            Stemmed Words  \\\n",
       "420622  i realli like kind bar flavor cranberri almond...   \n",
       "251572  i found brand fresh other . the jerki somewhat...   \n",
       "8444    i love coffe - one time favorit - best flavor ...   \n",
       "438183  i realli like soup i found rather bore eat . i...   \n",
       "90036   these granola thin great product . absolut del...   \n",
       "\n",
       "                                           lemmatize_text  \n",
       "420622  [I, really, like, Kind, bar, flavor, Cranberry...  \n",
       "251572  [I, found, brand, fresh, others., The, jerky, ...  \n",
       "8444    [I, love, coffee, -, one, time, favorite, -, b...  \n",
       "438183  [I, really, like, soup, I, found, rather, bori...  \n",
       "90036   [These, granola, thins, great, product., Absol...  "
      ]
     },
     "execution_count": 100,
     "metadata": {},
     "output_type": "execute_result"
    }
   ],
   "source": [
    "#lemmatization\n",
    "w_tokenizer = nltk.tokenize.WhitespaceTokenizer()\n",
    "lemmatizer = nltk.stem.WordNetLemmatizer()\n",
    "def lemmatize_text(text):\n",
    "    return [lemmatizer.lemmatize(w) for w in w_tokenizer.tokenize(text)]\n",
    "df_text_balanced['lemmatize_text'] = df_text_balanced.Text.apply(lemmatize_text)\n",
    "df_text_balanced.head()"
   ]
  },
  {
   "cell_type": "markdown",
   "metadata": {},
   "source": [
    "### Split Test & Training Data"
   ]
  },
  {
   "cell_type": "code",
   "execution_count": 101,
   "metadata": {},
   "outputs": [],
   "source": [
    "X=df_text_balanced['Stemmed Words']\n",
    "y= df_text_balanced['target']\n",
    "X_train, X_test, y_train, y_test = train_test_split(X, y, test_size=0.3, random_state=42)"
   ]
  },
  {
   "cell_type": "markdown",
   "metadata": {},
   "source": [
    "### Text Embedding\n",
    " - Use `TfidfVectorizer`\n",
    " - `fit` on the training data only\n",
    " - `transform` on training and test "
   ]
  },
  {
   "cell_type": "code",
   "execution_count": 102,
   "metadata": {},
   "outputs": [],
   "source": [
    "## TFIDF embedding for the Description\n",
    "vectorizer = TfidfVectorizer()\n",
    "# fit on training (such vectorizer will be saved for deployment)\n",
    "vectorizer_tfidf = vectorizer.fit(X_train) \n",
    "# transform on training data\n",
    "X_train = vectorizer.fit_transform(X_train)\n",
    "# transform on testing data\n",
    "X_test = vectorizer.transform(X_test)"
   ]
  },
  {
   "cell_type": "code",
   "execution_count": 103,
   "metadata": {},
   "outputs": [
    {
     "data": {
      "text/plain": [
       "((114851, 47697), (49223, 47697))"
      ]
     },
     "execution_count": 103,
     "metadata": {},
     "output_type": "execute_result"
    }
   ],
   "source": [
    "# See the dimensions of your data embeddings before entering to the model\n",
    "X_train.shape, X_test.shape"
   ]
  },
  {
   "cell_type": "markdown",
   "metadata": {},
   "source": [
    "### Modelling"
   ]
  },
  {
   "cell_type": "code",
   "execution_count": 104,
   "metadata": {},
   "outputs": [],
   "source": [
    "from sklearn.ensemble import RandomForestClassifier\n",
    "from sklearn.metrics import accuracy_score"
   ]
  },
  {
   "cell_type": "markdown",
   "metadata": {},
   "source": [
    "##### Sklearn framework steps\n",
    " - init\n",
    " - fit\n",
    " - predict"
   ]
  },
  {
   "cell_type": "code",
   "execution_count": 105,
   "metadata": {},
   "outputs": [
    {
     "name": "stdout",
     "output_type": "stream",
     "text": [
      "Model Accuracy = 88.84%\n"
     ]
    }
   ],
   "source": [
    "## initialize your Model\n",
    "clf = RandomForestClassifier(n_estimators = 100)  \n",
    "# Fit your Model on the Training Dataset\n",
    "clf.fit(X_train, y_train)\n",
    "# Predict on Test data\n",
    "preds = clf.predict(X_test)\n",
    "# Calculate Model Accuracy\n",
    "acc = accuracy_score(preds, y_test)\n",
    "print(f\"Model Accuracy = {round(acc*100,2)}%\")"
   ]
  },
  {
   "cell_type": "markdown",
   "metadata": {},
   "source": [
    "### Raw Instance Prediction"
   ]
  },
  {
   "cell_type": "code",
   "execution_count": 106,
   "metadata": {},
   "outputs": [],
   "source": [
    "def cleaner(review):\n",
    "    word_list = nltk.word_tokenize(review)\n",
    "    clean_list = []\n",
    "    for word in word_list:\n",
    "        if word.lower() not in stop_words:\n",
    "            stemmed = stemmer.stem(word)\n",
    "            clean_list.append(stemmed)\n",
    "    return \" \".join(clean_list)"
   ]
  },
  {
   "cell_type": "code",
   "execution_count": 116,
   "metadata": {},
   "outputs": [],
   "source": [
    "def raw_test(review, model, vectorizer):\n",
    "    # Calean Review\n",
    "    review_c = cleaner(review)\n",
    "    # Embed review using tf-idf vectorizer\n",
    "    embedding = vectorizer.transform([review_c])\n",
    "    # Predict using your model\n",
    "    prediction = model.predict(embedding)\n",
    "    # Return the Sentiment Prediction\n",
    "    return \"Positive\" if prediction == 1 else \"Negative\""
   ]
  },
  {
   "cell_type": "code",
   "execution_count": 117,
   "metadata": {},
   "outputs": [],
   "source": [
    "review_1 = \"That's a good Dish, Good Job\"\n",
    "review_2 = \"That's the worst Dish ever tasted\""
   ]
  },
  {
   "cell_type": "code",
   "execution_count": 118,
   "metadata": {},
   "outputs": [
    {
     "data": {
      "text/plain": [
       "'Positive'"
      ]
     },
     "execution_count": 118,
     "metadata": {},
     "output_type": "execute_result"
    }
   ],
   "source": [
    "raw_test(review_1, clf, vectorizer_tfidf)"
   ]
  },
  {
   "cell_type": "code",
   "execution_count": 119,
   "metadata": {},
   "outputs": [
    {
     "data": {
      "text/plain": [
       "'Negative'"
      ]
     },
     "execution_count": 119,
     "metadata": {},
     "output_type": "execute_result"
    }
   ],
   "source": [
    "raw_test(review_2, clf, vectorizer_tfidf)"
   ]
  },
  {
   "cell_type": "markdown",
   "metadata": {},
   "source": [
    "### Saving Models for Deployment"
   ]
  },
  {
   "cell_type": "code",
   "execution_count": 120,
   "metadata": {},
   "outputs": [],
   "source": [
    "import pickle"
   ]
  },
  {
   "cell_type": "code",
   "execution_count": 121,
   "metadata": {},
   "outputs": [],
   "source": [
    "model_name = 'rf_model.pk'\n",
    "vectorizer_name = 'tfidf_vectorizer.pk'\n",
    "model_path = os.path.join('/', model_name)\n",
    "vect_path = os.path.join('/', vectorizer_name)\n",
    "## Save model\n",
    "pickle.dump(clf, open(model_name, 'wb'))\n",
    "## Save tfidf-vectorizer\n",
    "pickle.dump(vectorizer_tfidf, open(vectorizer_name, \"wb\"))"
   ]
  },
  {
   "cell_type": "markdown",
   "metadata": {},
   "source": [
    "### Load model Again and test them"
   ]
  },
  {
   "cell_type": "code",
   "execution_count": 122,
   "metadata": {},
   "outputs": [],
   "source": [
    "loaded_model = pickle.load(open(model_name, 'rb'))\n",
    "loaded_vect = pickle.load(open(vectorizer_name, 'rb'))"
   ]
  },
  {
   "cell_type": "code",
   "execution_count": 123,
   "metadata": {},
   "outputs": [
    {
     "data": {
      "text/plain": [
       "'Positive'"
      ]
     },
     "execution_count": 123,
     "metadata": {},
     "output_type": "execute_result"
    }
   ],
   "source": [
    "raw_test(review_1, loaded_model, loaded_vect)"
   ]
  },
  {
   "cell_type": "code",
   "execution_count": 124,
   "metadata": {},
   "outputs": [
    {
     "data": {
      "text/plain": [
       "'Negative'"
      ]
     },
     "execution_count": 124,
     "metadata": {},
     "output_type": "execute_result"
    }
   ],
   "source": [
    "raw_test(review_2, loaded_model, loaded_vect)"
   ]
  },
  {
   "cell_type": "markdown",
   "metadata": {},
   "source": [
    "# Great Job !\n",
    "### Now Deploy your ML model using Streamlit Framework"
   ]
  },
  {
   "cell_type": "code",
   "execution_count": null,
   "metadata": {},
   "outputs": [],
   "source": []
  }
 ],
 "metadata": {
  "kernelspec": {
   "display_name": "Python 3",
   "language": "python",
   "name": "python3"
  },
  "language_info": {
   "codemirror_mode": {
    "name": "ipython",
    "version": 3
   },
   "file_extension": ".py",
   "mimetype": "text/x-python",
   "name": "python",
   "nbconvert_exporter": "python",
   "pygments_lexer": "ipython3",
   "version": "3.8.8"
  }
 },
 "nbformat": 4,
 "nbformat_minor": 2
}
